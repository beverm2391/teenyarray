{
 "cells": [
  {
   "cell_type": "code",
   "execution_count": null,
   "metadata": {},
   "outputs": [],
   "source": [
    "from typing import List, Tuple, Union\n",
    "\n",
    "class Tarray:\n",
    "    def __init__(self):\n",
    "        self.shape: Tuple = None\n",
    "        self.strides: Tuple = None\n",
    "        self.dtype: str = None\n",
    "        self.size: int = None\n",
    "        self.offset: int = None\n",
    "        self.isContiguous: bool = True\n",
    "        self.view = None\n",
    "        self.buffer = [] # this list is going to simulate how memory will look"
   ]
  },
  {
   "cell_type": "markdown",
   "metadata": {},
   "source": []
  }
 ],
 "metadata": {
  "kernelspec": {
   "display_name": "venv",
   "language": "python",
   "name": "python3"
  },
  "language_info": {
   "name": "python",
   "version": "3.10.11"
  }
 },
 "nbformat": 4,
 "nbformat_minor": 2
}
