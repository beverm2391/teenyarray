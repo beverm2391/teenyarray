{
 "cells": [
  {
   "cell_type": "code",
   "execution_count": 48,
   "metadata": {},
   "outputs": [],
   "source": [
    "from typing import Tuple, List\n",
    "import numpy as np\n",
    "import random\n",
    "\n",
    "def accumulate(shape: Tuple[int, ...]) -> int:\n",
    "    if len(shape) == 0: return 0\n",
    "    if len(shape) == 1: return shape[0]\n",
    "    return shape[0] * accumulate(shape[1:])\n",
    "\n",
    "class Array1D:\n",
    "    \"\"\"\n",
    "    In this array class, the shape is (n,) or (n, 1) which is the same shape as the buffer\n",
    "    Thus, index is the same as the buffer index\n",
    "    \"\"\"\n",
    "    def __init__(self, shape: Tuple[int], data: List[int]):\n",
    "        self.size = accumulate(shape)\n",
    "        if len(data) != self.size: raise ValueError(\"data size does not match shape\")\n",
    "        self.shape = shape\n",
    "        self.buffer = data\n",
    "\n",
    "    def __getitem__(self, idx):\n",
    "        if idx > len(self.buffer): raise IndexError(\"index out of range\")\n",
    "        return self.buffer[idx]\n",
    "    \n",
    "class Array2D:\n",
    "    def __init__(self, shape: Tuple[int, int], data: List[int]):\n",
    "        self.size = accumulate(shape)\n",
    "        if len(data) != self.size: raise ValueError(\"data size does not match shape\")\n",
    "        self.shape = shape\n",
    "        self.buffer = data\n",
    "\n",
    "    def convert_neg_indices(self, indices: Tuple[int, int]) -> Tuple[int, int]:\n",
    "        return tuple([i if i >= 0 else self.shape[i] + i for i in indices])\n",
    "\n",
    "    def __getitem__(self, indices: Tuple[int, int]):\n",
    "        if len(indices) != 2: raise IndexError(\"need two indices\")\n",
    "        indices = self.convert_neg_indices(indices)\n",
    "        for i, idx in enumerate(indices):\n",
    "            if idx > self.shape[i]: raise IndexError(\"index out of range\")\n",
    "\n",
    "        # for C style, return the last dimension * row + col\n",
    "        linear_idx = indices[0] * self.shape[1] + indices[1]\n",
    "        return self.buffer[linear_idx]\n",
    "    \n",
    "class Array2Dv2:\n",
    "    \"\"\"allow less indices than the shape\"\"\"\n",
    "    def __i\n",
    "\n",
    "class Array1D:\n",
    "    \"\"\"\n",
    "    In this array class, the shape is (n,) or (n, 1) which is the same shape as the buffer\n",
    "    Thus, index is the same as the buffer index\n",
    "    \"\"\"\n",
    "    def __init__(self, shape: Tuple[int], data: List[int]):\n",
    "        self.size = accumulate(shape)\n",
    "        if len(data) != self.size: raise ValueError(\"data size does not match shape\")\n",
    "        self.shape = shape\n",
    "        self.buffer = data\n",
    "\n",
    "\n",
    "    def conver_neg_indices(self, indices: Tuple[int, ...]): return tuple([i if i >= 0 else self.shape[i] + i for i in indices])\n",
    "\n",
    "    def __getitem___(self, indices: Tuple[int]):\n",
    "        if len(indices) > len(self.shape): raise IndexError(f\"too many indices for a {self.shape}-dimensional array\") # check number of indices\n",
    "        # check each index\n",
    "        indices = self.conver_neg_indices(indices) # handle negative indices\n",
    "        for i, idx in enumerate(indices):\n",
    "\n",
    "\n",
    "class CStyleArray:\n",
    "    def __init__(self, shape: Tuple[int, ...], data: List[int]):\n",
    "        self.size = accumulate(shape)\n",
    "        if len(data) != self.size:\n",
    "            raise ValueError(\"data size does not match shape\")\n",
    "        self.shape = shape\n",
    "        self.buffer = data"
   ]
  },
  {
   "cell_type": "code",
   "execution_count": 49,
   "metadata": {},
   "outputs": [],
   "source": [
    "data = [random.randint(0, 100) for _ in range(48)]\n",
    "np_arr = np.array(data).reshape(3, 4, 4)\n",
    "c_arr = CStyleArray((3, 4, 4), data)"
   ]
  },
  {
   "cell_type": "code",
   "execution_count": 50,
   "metadata": {},
   "outputs": [
    {
     "name": "stdout",
     "output_type": "stream",
     "text": [
      "[38, 18, 44, 14]\n",
      "[43 37  3 92]\n"
     ]
    }
   ],
   "source": [
    "print(c_arr[1, 2])\n",
    "print(np_arr[1, 2])"
   ]
  }
 ],
 "metadata": {
  "kernelspec": {
   "display_name": "venv",
   "language": "python",
   "name": "python3"
  },
  "language_info": {
   "codemirror_mode": {
    "name": "ipython",
    "version": 3
   },
   "file_extension": ".py",
   "mimetype": "text/x-python",
   "name": "python",
   "nbconvert_exporter": "python",
   "pygments_lexer": "ipython3",
   "version": "3.10.11"
  }
 },
 "nbformat": 4,
 "nbformat_minor": 2
}
